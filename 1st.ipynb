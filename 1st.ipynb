{
  "nbformat": 4,
  "nbformat_minor": 0,
  "metadata": {
    "colab": {
      "provenance": []
    },
    "kernelspec": {
      "name": "python3",
      "display_name": "Python 3"
    },
    "language_info": {
      "name": "python"
    }
  },
  "cells": [
    {
      "cell_type": "code",
      "execution_count": 2,
      "metadata": {
        "colab": {
          "base_uri": "https://localhost:8080/"
        },
        "id": "fIjIgbXhr8U_",
        "outputId": "3a11e3c9-147c-4289-d6e2-209b03bb5491"
      },
      "outputs": [
        {
          "output_type": "stream",
          "name": "stdout",
          "text": [
            "What word am I thinking about right now?:Uhhh\n",
            "You entered Choice 3.\n"
          ]
        }
      ],
      "source": [
        "user_input = input(\"What word am I thinking about right now?:\").lower()\n",
        "\n",
        "#Add Choices after this\n",
        "\n",
        "Choices = {\n",
        "    \"Choice 1\": {\"Hello\"},\n",
        "    \"Choice 2\": {\"Goodbye\"},\n",
        "    \"Choice 3\": {\"Uhhh\"},\n",
        "\n",
        "}\n",
        "\n",
        "if user_input == \"hello\":\n",
        "    print('You entered Choice 1.')\n",
        "\n",
        "elif user_input == \"goodbye\":\n",
        "    print('You entered Choice 2.')\n",
        "\n",
        "elif user_input == \"uhhh\":\n",
        "    print('You entered Choice 3.')\n",
        "\n",
        "else:\n",
        "    print(\"Wow. You've managed to make this difficult eh?\")"
      ]
    },
    {
      "cell_type": "code",
      "source": [],
      "metadata": {
        "id": "R8AYBMSRuRRc"
      },
      "execution_count": null,
      "outputs": []
    }
  ]
}