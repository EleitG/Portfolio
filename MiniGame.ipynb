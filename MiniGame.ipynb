{
  "nbformat": 4,
  "nbformat_minor": 0,
  "metadata": {
    "colab": {
      "provenance": [],
      "collapsed_sections": [
        "7746104d"
      ]
    },
    "kernelspec": {
      "name": "python3",
      "display_name": "Python 3"
    },
    "language_info": {
      "name": "python"
    }
  },
  "cells": [
    {
      "cell_type": "code",
      "source": [
        "# Define the rest stop and its connections\n",
        "Station = {\n",
        "    \"Bathroom\": {\n",
        "        \"description\": \"This place reeks. The smell of urine on the walls and some strange residue on the ceiling, makes you gag while your skin crawls.\",\n",
        "        \"exits\": {\"rest stop\": \"Rest Stop\", \"alleyway\": \"Alleyway\"},\n",
        "        \"search\": {\n",
        "            \"stalls\": \"You search the stalls, you notice a bunch of customer complaints and something about glory..? You refuse to touch anything within arm's reach.\",\n",
        "            \"urinal\": \"You check the urinal and notice something, off; there's a half eaten urinal cake. *Only in Philidelphia!*\",\n",
        "            \"mirrors\": \"You look in the mirror for a second and hear a whistling noise. To your right, you see a huge gaping hole. If mutants are real, this is for sure where they'd reside\",\n",
        "        }\n",
        "    }\n",
        "}\n",
        "\n",
        "# Add Alleyway, Broken Down Car, Store, to the Station dictionary\n",
        "Station[\"Alleyway\"] = {\n",
        "    \"description\": \"This alleyway smells like damp garbage and cigarette ass. There's a broken down car here.\",\n",
        "    \"exits\": {\"car\": \"Broken Down Car\", \"bathroom\": \"Bathroom\", \"store\": \"Store\", \"hotel\": \"Hotel\"},\n",
        "    \"search\": {\n",
        "        \"dumpster\": \"You search the inside of the dumpster. Old magazines, thrown away clothes; nothing really of substance. You move along.\",\n",
        "        \"boxes\": \"You step towards the boxes. You immediately hear a shuffle and hiss coming from them. You step away from the boxes.\",\n",
        "        \"garbage bags\": \"They're full of outdated cat food. *Only a few days out of date, shouldn't hurt the little guy* You stash a few in your pocket.\",\n",
        "    }\n",
        "}\n",
        "\n",
        "Station[\"Broken Down Car\"] = {\n",
        "    \"description\": \"You're inside of a broken down car. It smells gnarly and there's trash up to the knee.\",\n",
        "    \"exits\": {\"alley\": \"Alleyway\"},\n",
        "    \"search\": {\n",
        "        \"center\": \"You search the center console, and find... more garbage.\",\n",
        "        \"back\": \"You look behind you; there's more garbage.\",\n",
        "        \"glove\": \"You check the glove box. Inside you find a wallet with a million do- just kidding. It's filled with garbage.\",\n",
        "        \"below\": \"You start sifting through the trash below, and find a nice squeaky mouse toy! Aw, it even vibr- it's squeaking on it's own. *Oh, Ooh God* You swiftly leave the vehicle.\",\n",
        "    }\n",
        "}\n",
        "\n",
        "Station[\"Store\"] = {\n",
        "    \"description\": \"You walk into the store and hear soft music playing. You notice that the \",\n",
        "    \"exits\": {\"car\": \"Broken Down Car\", \"alley\": \"Alleyway\"},\n",
        "    \"search\": {\n",
        "        \"shelves\": \"You look around the aisles searching for some food for your cat. All sold out, so you just grab some water and ramen.\",\n",
        "        \"fridge\": \"You grab some frozen pizza, ice cream and milk for the cat. On closer inspection 2 out of 3 items are out of date. You check your phone and see the number rise.\",\n",
        "        \"register\": {\n",
        "            \"description\": \"You approach the cash register.\",\n",
        "            \"dialogue\": [\n",
        "                \"A muffled sound comes from behind you, but you pay it no mind.\",\n",
        "                \"You fiddle with the buttons and the sound becomes much more apparent.\",\n",
        "                \"*Hey! What do you think you're doing?!*\",\n",
        "                \"You turn around puzzled\",\n",
        "                \"'Oh, you were here this entire time?'\",\n",
        "                \"*You do realize I've been here this entire time.\",\n",
        "                \"'Oh. Can I check the register?'\"\n",
        "                \"*No. Leave*\",\n",
        "                \"Atleast you tried?\"\n",
        "            ]\n",
        "        }\n",
        "    }\n",
        "}\n",
        "Station[\"Outside\"] = {\n",
        "    \"description\": \"You're scared to come outside... mostly because your ranked match starts in 15 minutes and you're one game from Silver 2.\"\n",
        "}\n",
        "\n",
        "\n",
        "\n",
        "\n",
        "#Set the players starting location\n",
        "player_location = \"Outside\"\n",
        "print(Station[player_location][\"description\"])\n",
        "\n",
        "while True:\n",
        "    # Display current location:\n",
        "    print(\"\\n\" + Station[player_location][\"description\"])\n",
        "\n",
        "\n",
        "input(\"What do you want to do? \").lower()"
      ],
      "metadata": {
        "id": "YjkLQ2TCy0l5"
      },
      "execution_count": null,
      "outputs": []
    },
    {
      "cell_type": "code",
      "source": [],
      "metadata": {
        "id": "AAL6_EIG0FWV"
      },
      "execution_count": null,
      "outputs": []
    },
    {
      "cell_type": "markdown",
      "source": [],
      "metadata": {
        "id": "nhbjK4ao0FBv"
      }
    },
    {
      "cell_type": "markdown",
      "source": [],
      "metadata": {
        "id": "kZmAsWXtzSUB"
      }
    },
    {
      "cell_type": "markdown",
      "metadata": {
        "id": "2445efb1"
      },
      "source": [
        "# Task\n",
        "Create a short text adventure game based on the provided descriptions, removing \"gas pumps\" from the descriptions. Explain the basics of creating the game and teach me along the way, highlighting any issues encountered."
      ]
    },
    {
      "cell_type": "markdown",
      "metadata": {
        "id": "7746104d"
      },
      "source": [
        "## Initialize the game\n",
        "\n",
        "### Subtask:\n",
        "Set the player's starting location.\n"
      ]
    },
    {
      "cell_type": "markdown",
      "metadata": {
        "id": "7becf566"
      },
      "source": [
        "# Task\n",
        "Create a basic text adventure game structure in Python, including initializing the player's starting location, a main game loop, displaying the current location, getting and processing player input for movement and searching, handling invalid input, and outlining where win/loss conditions would be added."
      ]
    },
    {
      "cell_type": "markdown",
      "metadata": {
        "id": "a0c60677"
      },
      "source": [
        "## Initialize the game\n",
        "\n",
        "### Subtask:\n",
        "Set the player's starting location.\n"
      ]
    },
    {
      "cell_type": "markdown",
      "metadata": {
        "id": "120402e1"
      },
      "source": [
        "**Reasoning**:\n",
        "Set the player's starting location and print the description of that location.\n",
        "\n"
      ]
    },
    {
      "cell_type": "code",
      "metadata": {
        "id": "36a71ae8"
      },
      "source": [
        "# Game loop\n",
        "while True:\n",
        "    # Display current location (Step 3 in the plan)\n",
        "    print(\"\\n\" + Station[player_location][\"description\"])\n",
        "\n",
        "    # Get player input (Step 4 in the plan)\n",
        "    player_input = input(\"What do you want to do? \").lower()\n",
        "\n",
        "    # Process player input (Step 5-8 in the plan)\n",
        "    if player_input == \"quit\":\n",
        "        break # Exit the loop if the player types \"quit\"\n",
        "    # We'll add more input processing here later\n",
        "\n",
        "    # Check win/loss conditions (Step 9 in the plan)\n",
        "\n",
        "    pass # Placeholder for now"
      ],
      "execution_count": null,
      "outputs": []
    },
    {
      "cell_type": "markdown",
      "metadata": {
        "id": "cdb3f49d"
      },
      "source": [
        "# Task\n",
        "Add a long dialogue part to the game."
      ]
    },
    {
      "cell_type": "markdown",
      "metadata": {
        "id": "a4ccda05"
      },
      "source": [
        "## Implement movement\n",
        "\n",
        "### Subtask:\n",
        "Add logic to handle player movement between locations based on valid exits.\n"
      ]
    },
    {
      "cell_type": "markdown",
      "metadata": {
        "id": "3ffdba11"
      },
      "source": [
        "**Reasoning**:\n",
        "Add logic to the game loop to handle player movement based on valid exits from the current location.\n",
        "\n"
      ]
    }
  ]
}